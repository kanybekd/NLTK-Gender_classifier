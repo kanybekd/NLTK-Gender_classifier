{
 "cells": [
  {
   "cell_type": "code",
   "execution_count": 10,
   "metadata": {
    "collapsed": true
   },
   "outputs": [],
   "source": [
    "import pandas as pd\n",
    "import numpy as np"
   ]
  },
  {
   "cell_type": "markdown",
   "metadata": {},
   "source": [
    "# stopwords"
   ]
  },
  {
   "cell_type": "code",
   "execution_count": 86,
   "metadata": {},
   "outputs": [
    {
     "data": {
      "text/plain": [
       "'kanday best so far time bullshit'"
      ]
     },
     "execution_count": 86,
     "metadata": {},
     "output_type": "execute_result"
    }
   ],
   "source": [
    "stop='a is of this the'.split()\n",
    "def remo(st,txt):\n",
    "    new=' '.join([word for word in txt.split() if word not in st])\n",
    "    return new\n",
    "remo(stop,'kanday is the best of the so far this time a bullshit')"
   ]
  },
  {
   "cell_type": "code",
   "execution_count": 96,
   "metadata": {},
   "outputs": [
    {
     "name": "stdout",
     "output_type": "stream",
     "text": [
      "179\n"
     ]
    },
    {
     "data": {
      "text/plain": [
       "'oh shit asdasd asd bully'"
      ]
     },
     "execution_count": 96,
     "metadata": {},
     "output_type": "execute_result"
    }
   ],
   "source": [
    "from nltk.corpus import stopwords\n",
    "stops=stopwords.words('English')\n",
    "print(len(stops))\n",
    "remo(stops,'oh my shit is this asdasd asd is a the of bully ma  won'' '  )"
   ]
  },
  {
   "cell_type": "code",
   "execution_count": 368,
   "metadata": {},
   "outputs": [
    {
     "name": "stdout",
     "output_type": "stream",
     "text": [
      "5001\n"
     ]
    }
   ],
   "source": [
    "a=nltk.corpus.names.words('female.txt')\n",
    "a"
   ]
  },
  {
   "cell_type": "code",
   "execution_count": 742,
   "metadata": {},
   "outputs": [
    {
     "data": {
      "text/html": [
       "<div>\n",
       "<style>\n",
       "    .dataframe thead tr:only-child th {\n",
       "        text-align: right;\n",
       "    }\n",
       "\n",
       "    .dataframe thead th {\n",
       "        text-align: left;\n",
       "    }\n",
       "\n",
       "    .dataframe tbody tr th {\n",
       "        vertical-align: top;\n",
       "    }\n",
       "</style>\n",
       "<table border=\"1\" class=\"dataframe\">\n",
       "  <thead>\n",
       "    <tr style=\"text-align: right;\">\n",
       "      <th></th>\n",
       "      <th>Name</th>\n",
       "      <th>gender1</th>\n",
       "    </tr>\n",
       "  </thead>\n",
       "  <tbody>\n",
       "    <tr>\n",
       "      <th>0</th>\n",
       "      <td>asil</td>\n",
       "      <td>male</td>\n",
       "    </tr>\n",
       "    <tr>\n",
       "      <th>1</th>\n",
       "      <td>akhmat</td>\n",
       "      <td>male</td>\n",
       "    </tr>\n",
       "    <tr>\n",
       "      <th>2</th>\n",
       "      <td>aldayar</td>\n",
       "      <td>male</td>\n",
       "    </tr>\n",
       "    <tr>\n",
       "      <th>3</th>\n",
       "      <td>aristan</td>\n",
       "      <td>male</td>\n",
       "    </tr>\n",
       "    <tr>\n",
       "      <th>4</th>\n",
       "      <td>artur</td>\n",
       "      <td>male</td>\n",
       "    </tr>\n",
       "  </tbody>\n",
       "</table>\n",
       "</div>"
      ],
      "text/plain": [
       "      Name gender1\n",
       "0     asil    male\n",
       "1   akhmat    male\n",
       "2  aldayar    male\n",
       "3  aristan    male\n",
       "4    artur    male"
      ]
     },
     "execution_count": 742,
     "metadata": {},
     "output_type": "execute_result"
    }
   ],
   "source": [
    "#n=pd.read_csv('d:/nm.csv')\n",
    "m=pd.read_csv('d:/nm1.csv')\n",
    "#n.head()\n",
    "m.head()"
   ]
  },
  {
   "cell_type": "code",
   "execution_count": 672,
   "metadata": {},
   "outputs": [
    {
     "data": {
      "text/html": [
       "<div>\n",
       "<style>\n",
       "    .dataframe thead tr:only-child th {\n",
       "        text-align: right;\n",
       "    }\n",
       "\n",
       "    .dataframe thead th {\n",
       "        text-align: left;\n",
       "    }\n",
       "\n",
       "    .dataframe tbody tr th {\n",
       "        vertical-align: top;\n",
       "    }\n",
       "</style>\n",
       "<table border=\"1\" class=\"dataframe\">\n",
       "  <thead>\n",
       "    <tr style=\"text-align: right;\">\n",
       "      <th></th>\n",
       "      <th>Name</th>\n",
       "      <th>gender1</th>\n",
       "    </tr>\n",
       "  </thead>\n",
       "  <tbody>\n",
       "    <tr>\n",
       "      <th>0</th>\n",
       "      <td>Adel</td>\n",
       "      <td>female</td>\n",
       "    </tr>\n",
       "    <tr>\n",
       "      <th>1</th>\n",
       "      <td>Adinai</td>\n",
       "      <td>female</td>\n",
       "    </tr>\n",
       "    <tr>\n",
       "      <th>2</th>\n",
       "      <td>Aida</td>\n",
       "      <td>female</td>\n",
       "    </tr>\n",
       "    <tr>\n",
       "      <th>3</th>\n",
       "      <td>Aidai</td>\n",
       "      <td>female</td>\n",
       "    </tr>\n",
       "    <tr>\n",
       "      <th>4</th>\n",
       "      <td>Aidana</td>\n",
       "      <td>female</td>\n",
       "    </tr>\n",
       "  </tbody>\n",
       "</table>\n",
       "</div>"
      ],
      "text/plain": [
       "     Name gender1\n",
       "0    Adel  female\n",
       "1  Adinai  female\n",
       "2    Aida  female\n",
       "3   Aidai  female\n",
       "4  Aidana  female"
      ]
     },
     "execution_count": 672,
     "metadata": {},
     "output_type": "execute_result"
    }
   ],
   "source": [
    "n.head()"
   ]
  },
  {
   "cell_type": "code",
   "execution_count": 484,
   "metadata": {},
   "outputs": [
    {
     "data": {
      "text/html": [
       "<div>\n",
       "<style>\n",
       "    .dataframe thead tr:only-child th {\n",
       "        text-align: right;\n",
       "    }\n",
       "\n",
       "    .dataframe thead th {\n",
       "        text-align: left;\n",
       "    }\n",
       "\n",
       "    .dataframe tbody tr th {\n",
       "        vertical-align: top;\n",
       "    }\n",
       "</style>\n",
       "<table border=\"1\" class=\"dataframe\">\n",
       "  <thead>\n",
       "    <tr style=\"text-align: right;\">\n",
       "      <th></th>\n",
       "      <th>Name</th>\n",
       "      <th>gender1</th>\n",
       "    </tr>\n",
       "  </thead>\n",
       "  <tbody>\n",
       "    <tr>\n",
       "      <th>0</th>\n",
       "      <td>Adel</td>\n",
       "      <td>female</td>\n",
       "    </tr>\n",
       "    <tr>\n",
       "      <th>1</th>\n",
       "      <td>Adinai</td>\n",
       "      <td>female</td>\n",
       "    </tr>\n",
       "    <tr>\n",
       "      <th>2</th>\n",
       "      <td>Aida</td>\n",
       "      <td>female</td>\n",
       "    </tr>\n",
       "    <tr>\n",
       "      <th>3</th>\n",
       "      <td>Aidai</td>\n",
       "      <td>female</td>\n",
       "    </tr>\n",
       "    <tr>\n",
       "      <th>4</th>\n",
       "      <td>Aidana</td>\n",
       "      <td>female</td>\n",
       "    </tr>\n",
       "  </tbody>\n",
       "</table>\n",
       "</div>"
      ],
      "text/plain": [
       "     Name gender1\n",
       "0    Adel  female\n",
       "1  Adinai  female\n",
       "2    Aida  female\n",
       "3   Aidai  female\n",
       "4  Aidana  female"
      ]
     },
     "execution_count": 484,
     "metadata": {},
     "output_type": "execute_result"
    }
   ],
   "source": [
    "# new data frame with split value columns \n",
    "new = n[\"name\"].str.split(\" \", n = 1, expand = True) \n",
    "  \n",
    "# making seperate first name column from new data frame \n",
    "n[\"First\"]= new[0] \n",
    "  \n",
    "# making seperate last name column from new data frame \n",
    "n[\"Name\"]= new[1] \n",
    "#n['gender']=new[2]  \n",
    "# Dropping old Name columns \n",
    "#n.drop(columns =[\"name\"], inplace = True) \n",
    "  \n",
    "# df display \n",
    "n['gender1']=n['gender']\n",
    "n=n.drop(['name','gender','First'],axis=1)\n",
    "n.head()"
   ]
  },
  {
   "cell_type": "code",
   "execution_count": 823,
   "metadata": {},
   "outputs": [
    {
     "data": {
      "text/html": [
       "<div>\n",
       "<style>\n",
       "    .dataframe thead tr:only-child th {\n",
       "        text-align: right;\n",
       "    }\n",
       "\n",
       "    .dataframe thead th {\n",
       "        text-align: left;\n",
       "    }\n",
       "\n",
       "    .dataframe tbody tr th {\n",
       "        vertical-align: top;\n",
       "    }\n",
       "</style>\n",
       "<table border=\"1\" class=\"dataframe\">\n",
       "  <thead>\n",
       "    <tr style=\"text-align: right;\">\n",
       "      <th></th>\n",
       "      <th>Name</th>\n",
       "      <th>gender1</th>\n",
       "    </tr>\n",
       "  </thead>\n",
       "  <tbody>\n",
       "    <tr>\n",
       "      <th>0</th>\n",
       "      <td>Adel</td>\n",
       "      <td>female</td>\n",
       "    </tr>\n",
       "    <tr>\n",
       "      <th>1</th>\n",
       "      <td>Adinai</td>\n",
       "      <td>female</td>\n",
       "    </tr>\n",
       "    <tr>\n",
       "      <th>2</th>\n",
       "      <td>Aida</td>\n",
       "      <td>female</td>\n",
       "    </tr>\n",
       "    <tr>\n",
       "      <th>3</th>\n",
       "      <td>Aidai</td>\n",
       "      <td>female</td>\n",
       "    </tr>\n",
       "    <tr>\n",
       "      <th>4</th>\n",
       "      <td>Aidana</td>\n",
       "      <td>female</td>\n",
       "    </tr>\n",
       "  </tbody>\n",
       "</table>\n",
       "</div>"
      ],
      "text/plain": [
       "     Name gender1\n",
       "0    Adel  female\n",
       "1  Adinai  female\n",
       "2    Aida  female\n",
       "3   Aidai  female\n",
       "4  Aidana  female"
      ]
     },
     "execution_count": 823,
     "metadata": {},
     "output_type": "execute_result"
    }
   ],
   "source": [
    "df=pd.concat([n,m], ignore_index=True)\n",
    "df.head()"
   ]
  },
  {
   "cell_type": "code",
   "execution_count": 763,
   "metadata": {},
   "outputs": [
    {
     "name": "stdout",
     "output_type": "stream",
     "text": [
      "female 156 out of 441 .\n"
     ]
    }
   ],
   "source": [
    "print(\"female {} out of {} .\".format(len(df[df['gender1'] == 'female']), len(df['gender1'])))"
   ]
  },
  {
   "cell_type": "code",
   "execution_count": 764,
   "metadata": {},
   "outputs": [
    {
     "data": {
      "text/plain": [
       "array(['female', 'male'], dtype=object)"
      ]
     },
     "execution_count": 764,
     "metadata": {},
     "output_type": "execute_result"
    }
   ],
   "source": [
    "df['gender1'].unique()"
   ]
  },
  {
   "cell_type": "code",
   "execution_count": 762,
   "metadata": {},
   "outputs": [
    {
     "data": {
      "image/png": "[encoded data removed]",
      "text/plain": [
       "<matplotlib.figure.Figure at 0x18bd26e25f8>"
      ]
     },
     "metadata": {},
     "output_type": "display_data"
    }
   ],
   "source": [
    "a=[]\n",
    "for i in df['gender1']:\n",
    "    if i=='female':\n",
    "        a.append(i)\n",
    "b=[]\n",
    "for j in df['gender1']:\n",
    "    if j=='male':\n",
    "        b.append(j)\n",
    "#print(len(b))\n",
    "objects = ('male','female')\n",
    "y_pos = np.arange(len(objects))\n",
    "performance = [len(b),len(a)]\n",
    " \n",
    "plt.bar(y_pos, performance, align='center', alpha=0.5)\n",
    "plt.xticks(y_pos, objects)\n",
    "plt.ylabel('Usage')\n",
    "\n",
    "plt.grid()\n",
    "plt.show()"
   ]
  },
  {
   "cell_type": "code",
   "execution_count": 824,
   "metadata": {},
   "outputs": [
    {
     "data": {
      "text/plain": [
       "441"
      ]
     },
     "execution_count": 824,
     "metadata": {},
     "output_type": "execute_result"
    }
   ],
   "source": [
    "df=df.dropna()\n",
    "df.isnull().sum()\n",
    "len(df)"
   ]
  },
  {
   "cell_type": "code",
   "execution_count": 807,
   "metadata": {
    "collapsed": true
   },
   "outputs": [],
   "source": [
    "#dup=df['Name'].duplicated()\n",
    "#dup = df.duplicated(['Name'])\n",
    "#dup"
   ]
  },
  {
   "cell_type": "code",
   "execution_count": 826,
   "metadata": {},
   "outputs": [
    {
     "data": {
      "text/plain": [
       "370"
      ]
     },
     "execution_count": 826,
     "metadata": {},
     "output_type": "execute_result"
    }
   ],
   "source": [
    "df=df.drop_duplicates(keep='first', inplace=False)\n",
    "len(df)"
   ]
  },
  {
   "cell_type": "code",
   "execution_count": 698,
   "metadata": {
    "collapsed": true
   },
   "outputs": [],
   "source": [
    "df.to_csv('d:/df.csv', index = False)\n"
   ]
  },
  {
   "cell_type": "code",
   "execution_count": 617,
   "metadata": {},
   "outputs": [
    {
     "data": {
      "text/plain": [
       "[('AsAn', 'male'),\n",
       " ('argen', 'male'),\n",
       " ('aibek', 'male'),\n",
       " ('asel', 'female'),\n",
       " ('aigul', 'female')]"
      ]
     },
     "execution_count": 617,
     "metadata": {},
     "output_type": "execute_result"
    }
   ],
   "source": [
    "a=[('AsAn','male'),('argen','male'),('aibek','male'),('asel','female'),('aigul','female')]\n",
    "type(a[0])\n",
    "a"
   ]
  },
  {
   "cell_type": "code",
   "execution_count": 830,
   "metadata": {},
   "outputs": [
    {
     "data": {
      "text/html": [
       "<div>\n",
       "<style>\n",
       "    .dataframe thead tr:only-child th {\n",
       "        text-align: right;\n",
       "    }\n",
       "\n",
       "    .dataframe thead th {\n",
       "        text-align: left;\n",
       "    }\n",
       "\n",
       "    .dataframe tbody tr th {\n",
       "        vertical-align: top;\n",
       "    }\n",
       "</style>\n",
       "<table border=\"1\" class=\"dataframe\">\n",
       "  <thead>\n",
       "    <tr style=\"text-align: right;\">\n",
       "      <th></th>\n",
       "      <th>Name</th>\n",
       "      <th>gender1</th>\n",
       "    </tr>\n",
       "  </thead>\n",
       "  <tbody>\n",
       "    <tr>\n",
       "      <th>442</th>\n",
       "      <td>gulmayram</td>\n",
       "      <td>female</td>\n",
       "    </tr>\n",
       "    <tr>\n",
       "      <th>443</th>\n",
       "      <td>boldukiz</td>\n",
       "      <td>female</td>\n",
       "    </tr>\n",
       "    <tr>\n",
       "      <th>444</th>\n",
       "      <td>cholpon</td>\n",
       "      <td>female</td>\n",
       "    </tr>\n",
       "    <tr>\n",
       "      <th>445</th>\n",
       "      <td>ayana</td>\n",
       "      <td>female</td>\n",
       "    </tr>\n",
       "    <tr>\n",
       "      <th>446</th>\n",
       "      <td>ayima</td>\n",
       "      <td>female</td>\n",
       "    </tr>\n",
       "  </tbody>\n",
       "</table>\n",
       "</div>"
      ],
      "text/plain": [
       "          Name gender1\n",
       "442  gulmayram  female\n",
       "443   boldukiz  female\n",
       "444    cholpon  female\n",
       "445      ayana  female\n",
       "446      ayima  female"
      ]
     },
     "execution_count": 830,
     "metadata": {},
     "output_type": "execute_result"
    }
   ],
   "source": [
    "df.tail()"
   ]
  },
  {
   "cell_type": "code",
   "execution_count": 840,
   "metadata": {
    "collapsed": true
   },
   "outputs": [],
   "source": [
    "nams=[name for name in dfe]\n",
    "#w=[('asdasASDASd','jklLK')]\n",
    "#print(nams)\n",
    "#for i,j in nams:\n",
    "    #print(i.lower())\n"
   ]
  },
  {
   "cell_type": "code",
   "execution_count": 841,
   "metadata": {},
   "outputs": [
    {
     "name": "stdout",
     "output_type": "stream",
     "text": [
      "train_accu: 0.9898648648648649\n",
      "test_accu: 0.8648648648648649\n",
      "name kanybek clssified as: male\n",
      "Most Informative Features\n",
      "                  suffix = 'a'            female : male   =     19.4 : 1.0\n",
      "                  suffix = 'k'              male : female =     17.3 : 1.0\n",
      "                 suffix2 = 'ra'           female : male   =     10.7 : 1.0\n",
      "                 prefix1 = 'ai'           female : male   =      6.9 : 1.0\n",
      "                 suffix2 = 'ul'           female : male   =      5.8 : 1.0\n",
      "                 suffix2 = 'al'           female : male   =      5.6 : 1.0\n",
      "                 suffix3 = 'mat'            male : female =      4.9 : 1.0\n",
      "                 prefix1 = 'da'             male : female =      4.2 : 1.0\n",
      "                  suffix = ' '              male : female =      3.9 : 1.0\n",
      "                 prefix1 = 'er'             male : female =      3.7 : 1.0\n"
     ]
    }
   ],
   "source": [
    "nams=[name for name in dfe]\n",
    "#names +=[(name,'female') for name in nltk.corpus.names.words('female.txt')]\n",
    "\n",
    "\n",
    "def extract_gender_features(name):\n",
    "    name=name.lower()\n",
    "    features={}\n",
    "    features['suffix']=name[-1:]\n",
    "    features['suffix2']=name[-2:] if len(name)> 1 else name[0]\n",
    "    features['suffix3']=name[-3:] if len(name)> 2 else name[0]\n",
    "    features['prefix']=name[:1]\n",
    "    features['prefix1']=name[:2] if len(name)> 1 else name[0]\n",
    "    features['prefix2']=name[:3] if len(name)> 2 else name[0]\n",
    "    features['prefix3']=name[:4] if len(name)> 3 else name[0]\n",
    "    return features\n",
    "\n",
    "data=[(extract_gender_features(name),gender)for (name,gender) in nams]\n",
    "import random\n",
    "random.shuffle(data)\n",
    "datacount=len(data)\n",
    "traincount=int(.8*datacount)\n",
    "\n",
    "traindata=data[:traincount]\n",
    "testdata=data[traincount:]\n",
    "\n",
    "#NLTK NAIVE\n",
    "bayes=nltk.NaiveBayesClassifier.train(traindata)\n",
    "\n",
    "#Classifier\n",
    "\n",
    "def classify(name):\n",
    "    label=bayes.classify(extract_gender_features(name))\n",
    "    print('name',name,'clssified as:',label)\n",
    "print('train_accu:',nltk.classify.accuracy(bayes,traindata))\n",
    "print('test_accu:',nltk.classify.accuracy(bayes,testdata))\n",
    "\n",
    "classify('kanybek')\n",
    "\n",
    "bayes.show_most_informative_features(10)\n"
   ]
  },
  {
   "cell_type": "code",
   "execution_count": 884,
   "metadata": {},
   "outputs": [
    {
     "name": "stdout",
     "output_type": "stream",
     "text": [
      "name kanybek clssified as: male\n",
      "name Alik clssified as: male\n",
      "name Asan clssified as: male\n",
      "name Azamat clssified as: male\n",
      "name Bakyt clssified as: male\n",
      "name Chyngyz clssified as: female\n",
      "name Emil clssified as: male\n",
      "name Nurdeen clssified as: male\n",
      "name Usen clssified as: male\n",
      "name erkebai clssified as: male\n",
      " \n",
      " \n",
      "name Aziza clssified as: female\n",
      "name Azem clssified as: female\n",
      "name Baktigul clssified as: female\n",
      "name Begaiym clssified as: female\n",
      "name Begimai clssified as: female\n",
      "name Cholpol clssified as: female\n",
      "name Dariga clssified as: female\n",
      "name Dilara clssified as: female\n",
      "name Eldana clssified as: female\n",
      "name Dinara clssified as: female\n",
      "name ailin clssified as: female\n",
      "name azem clssified as: female\n",
      " \n",
      " \n",
      "name musa clssified as: female\n",
      "name nurlan clssified as: male\n",
      "name daniyar clssified as: male\n",
      "name nurzamat clssified as: male\n",
      "name dilsad clssified as: male\n",
      "name osman clssified as: male\n",
      "name joodar clssified as: male\n",
      "name hikmet clssified as: female\n",
      "name bakyt clssified as: male\n",
      "name ulan clssified as: male\n",
      "name kylych clssified as: female\n",
      "name samagan clssified as: male\n",
      "name aikokulbek clssified as: male\n"
     ]
    }
   ],
   "source": [
    "classify('kanybek')\n",
    "classify('Alik')\n",
    "classify('Asan')\n",
    "classify('Azamat')\n",
    "classify('Bakyt')\n",
    "classify('Chyngyz')\n",
    "classify('Emil')\n",
    "classify('Nurdeen')\n",
    "classify('Usen')\n",
    "classify('erkebai')\n",
    "print(\" \")\n",
    "print(\" \")\n",
    "classify('Aziza')\n",
    "classify('Azem')\n",
    "classify('Baktigul')\n",
    "classify('Begaiym')\n",
    "classify('Begimai')\n",
    "classify('Cholpol')\n",
    "classify('Dariga')\n",
    "classify('Dilara')\n",
    "classify('Eldana')\n",
    "classify('Dinara')\n",
    "classify('ailin')\n",
    "classify('azem')\n",
    "print(\" \")\n",
    "print(\" \")\n",
    "classify('musa')\n",
    "classify('nurlan')\n",
    "classify('daniyar')\n",
    "classify('nurzamat')\n",
    "classify('dilsad')\n",
    "classify('osman')\n",
    "classify('joodar')\n",
    "classify('hikmet')\n",
    "classify('bakyt')\n",
    "classify('ulan')\n",
    "classify('kylych')\n",
    "classify('samagan')\n",
    "classify('aikokulbek')\n",
    "\n",
    "\n",
    "    "
   ]
  },
  {
   "cell_type": "code",
   "execution_count": 845,
   "metadata": {},
   "outputs": [
    {
     "data": {
      "text/plain": [
       "[{'Actua_label:': 'female', 'classified as not': 'female', 'name:': 'Keres'},\n",
       " {'Actua_label:': 'male', 'classified as not': 'male', 'name:': 'Kylych'},\n",
       " {'Actua_label:': 'male', 'classified as not': 'male', 'name:': 'ergesh'},\n",
       " {'Actua_label:': 'male', 'classified as not': 'male', 'name:': 'Ahmet Hamza'},\n",
       " {'Actua_label:': 'male', 'classified as not': 'male', 'name:': 'Ahmet Kerim'},\n",
       " {'Actua_label:': 'male', 'classified as not': 'male', 'name:': 'Akinmyrza'},\n",
       " {'Actua_label:': 'male', 'classified as not': 'male', 'name:': 'Chyngyz'},\n",
       " {'Actua_label:': 'female', 'classified as not': 'female', 'name:': 'Murok'},\n",
       " {'Actua_label:': 'male', 'classified as not': 'male', 'name:': 'Kadyrbai'},\n",
       " {'Actua_label:': 'male', 'classified as not': 'male', 'name:': 'Allah'},\n",
       " {'Actua_label:': 'female', 'classified as not': 'female', 'name:': 'Samagan'},\n",
       " {'Actua_label:': 'female', 'classified as not': 'female', 'name:': 'zhibek'},\n",
       " {'Actua_label:': 'female',\n",
       "  'classified as not': 'female',\n",
       "  'name:': 'kizzhibek'}]"
      ]
     },
     "execution_count": 845,
     "metadata": {},
     "output_type": "execute_result"
    }
   ],
   "source": [
    "err=[]\n",
    "for(name,label) in nams:\n",
    "    if bayes.classify(extract_gender_features(name))!=label:\n",
    "        err.append({'name:':name,\"Actua_label:\":label,'classified as not':label})\n",
    "err"
   ]
  },
  {
   "cell_type": "code",
   "execution_count": 893,
   "metadata": {},
   "outputs": [
    {
     "name": "stdout",
     "output_type": "stream",
     "text": [
      "['Kanykei', 'kanybek', 'Iskanderbek', 'Kanat', 'Aikan', 'kanyshai', 'asylkan']\n"
     ]
    }
   ],
   "source": [
    "#nams=[name for name in dfe]\n",
    "#w=[('asdasASDASd','jklLK')]\n",
    "#print(nams)\n",
    "l=[]\n",
    "for i in dfe:\n",
    "    if 'KAN'.lower() in i[0].lower():\n",
    "        l.append(i[0])\n",
    "print(l)"
   ]
  },
  {
   "cell_type": "code",
   "execution_count": null,
   "metadata": {
    "collapsed": true
   },
   "outputs": [],
   "source": []
  }
 ],
 "metadata": {
  "kernelspec": {
   "display_name": "Python 3",
   "language": "python",
   "name": "python3"
  },
  "language_info": {
   "codemirror_mode": {
    "name": "ipython",
    "version": 3
   },
   "file_extension": ".py",
   "mimetype": "text/x-python",
   "name": "python",
   "nbconvert_exporter": "python",
   "pygments_lexer": "ipython3",
   "version": "3.5.6"
  }
 },
 "nbformat": 4,
 "nbformat_minor": 2
}
